{
  "cells": [
    {
      "cell_type": "raw",
      "metadata": {},
      "source": [
        "---\n",
        "title: \"Risk Premium and WTP\"\n",
        "---"
      ],
      "id": "11b934ac"
    },
    {
      "cell_type": "markdown",
      "metadata": {},
      "source": [
        "## Risk Premium {#sec-riskpremium}\n",
        "\n",
        "The risk premium reflects how much money a risk-averse person would pay to avoid risk. In other words, it's the amount of money that makes a person indifferent between a risky and riskless scenario. The risk premium is reflected graphically in @fig-risk-premium.\n",
        "\n",
        "\n",
        "\n",
        "\n",
        "\n",
        "```{tikz}\n",
        "#| echo: false\n",
        "#| fig.cap: \"Depiction of risk premium\"\n",
        "#| label: fig-risk-premium\n",
        "\n",
        "\\usetikzlibrary{calc}\n",
        "\\begin{tikzpicture}[my plot/.style={\n",
        "                        thick,\n",
        "                        smooth,\n",
        "                        samples=100,\n",
        "                        domain=0.1:5},\n",
        "                    scale=0.75,\n",
        "                    my grid/.style={dashed,opacity=0.5, every node/.style={black,opacity=1}, transform shape},\n",
        "                    my axis/.style={latex-latex}]\n",
        "\\draw[my plot] (0,0) plot (\\x,{ln(\\x)});\n",
        "\\coordinate (start plot) at (0.1,{ln(0.1)}); % domain start\n",
        "\\coordinate (end plot) at (5,{ln(5)}); % domain end\n",
        "\\draw[my axis] ([shift={(-0.5cm,0.5cm)}]start plot |- end plot) |- node[coordinate](origin){} ([shift={(0.5cm,-0.5cm)}]start plot -| end plot);\n",
        "\\def\\x{0.5}\\def\\y{4}\\def\\p{0.55} % define the x, y and p values\n",
        "\\coordinate (Ux) at (\\x,{ln(\\x)}); % set the u(x) coordinate\n",
        "\\coordinate (Uy) at (\\y,{ln(\\y)}); % set the u(y) coordinate\n",
        "\\coordinate (Up) at ({\\p*\\x+(1-\\p)*\\y},{ln(\\p*\\x+(1-\\p)*\\y)}); % set the u(p*x+(1-p)*y) coordinate\n",
        "\\draw (Ux) -- coordinate[pos=1-\\p] (Up-mid) (Uy); % set the coordinate on the linear curve\n",
        "\\path let \\p1=(Up-mid), \\n1={pow(e,\\y1*0.03514)} in (28.4576*\\n1,\\y1) coordinate (Up-mid2); \n",
        "\\draw[my grid] (Ux) |- node[below]{$x_{1}$} (origin) |- node[left]{$u(x_{1})$} cycle;\n",
        "\\draw[my grid] (Uy) |- node[below]{$x_{2}$} (origin) |- node[left]{$u(x_{2})$} cycle;\n",
        "%\\draw[my grid] (Up) |- (origin) |- cycle;\n",
        "\\draw[my grid] (Up) |- (origin);\n",
        "%\\draw[my grid] (Up-mid2) |- node[below,font=\\scriptsize]{$c(F,u)$} (origin) |- node[left]{$pu(x)+(1-p)u(y)$} cycle;\n",
        "\\draw[my grid] (Up-mid2) |- node[below right]{\\hspace{.05cm} $\\pi$} (origin) |- node[left,font=\\scriptsize]{$E[u(x)]$} cycle;\n",
        "\\draw[my grid] (Up-mid) -- (Up-mid2);\n",
        "\\end{tikzpicture}\n",
        "```"
      ],
      "id": "cdd2c4e9"
    }
  ],
  "metadata": {
    "kernelspec": {
      "display_name": "Python 3",
      "language": "python",
      "name": "python3"
    }
  },
  "nbformat": 4,
  "nbformat_minor": 5
}